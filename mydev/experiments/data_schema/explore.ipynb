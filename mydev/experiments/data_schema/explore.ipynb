{
 "cells": [
  {
   "cell_type": "code",
   "execution_count": 2,
   "id": "b83571d7",
   "metadata": {},
   "outputs": [
    {
     "name": "stdout",
     "output_type": "stream",
     "text": [
      "======\n",
      "Loading truckscenes tables for version v1.0-mini...\n",
      "11 attribute,\n",
      "18 calibrated_sensor,\n",
      "27 category,\n",
      "20090 ego_motion_cabin,\n",
      "20089 ego_motion_chassis,\n",
      "20116 ego_pose,\n",
      "1094 instance,\n",
      "400 sample,\n",
      "25750 sample_annotation,\n",
      "43556 sample_data,\n",
      "10 scene,\n",
      "18 sensor,\n",
      "4 visibility,\n",
      "Done loading in 0.835 seconds.\n",
      "======\n",
      "Reverse indexing ...\n",
      "Done reverse indexing in 0.2 seconds.\n",
      "======\n",
      "Jupyter environment detected. Enabling Open3D WebVisualizer.\n",
      "[Open3D INFO] WebRTC GUI backend enabled.\n",
      "[Open3D INFO] WebRTCWindowSystem: HTTP handshake server disabled.\n"
     ]
    }
   ],
   "source": [
    "from truckscenes import TruckScenes   \n",
    "version = 'v1.0-mini'\n",
    "dataroot = '/data/mint/Radar_Dataset/ManTruck/man-truckscenes/'\n",
    "trucksc = TruckScenes(version=version, dataroot=dataroot, verbose=True)"
   ]
  },
  {
   "cell_type": "code",
   "execution_count": 14,
   "id": "be892040",
   "metadata": {},
   "outputs": [
    {
     "name": "stdout",
     "output_type": "stream",
     "text": [
      "[#] #N-scenes: 10\n",
      "====================================================================================================\n",
      "[#] scene: {'name': 'scene-0044384af3d8494e913fb8b14915239e-3', 'description': 'weather.clear;area.terminal;daytime.noon;season.autumn;lighting.illuminated;structure.regular;construction.unchanged', 'token': '044c648ac12345f1aedf33c9f91cdc5a', 'log_token': '', 'nbr_samples': 40, 'first_sample_token': '32d2bcf46e734dffb14fe2e0a823d059', 'last_sample_token': '94640f753b284a1c9c0e8694243f60cd'}\n",
      "dict_keys(['name', 'description', 'token', 'log_token', 'nbr_samples', 'first_sample_token', 'last_sample_token'])\n",
      "[#] First_sample_token:  32d2bcf46e734dffb14fe2e0a823d059\n",
      "[#] Last_sample_token:  94640f753b284a1c9c0e8694243f60cd\n",
      "[#] #count: 40\n",
      "[#] #nbr_samples:  40\n",
      "====================================================================================================\n",
      "[#] Scene token: 044c648ac12345f1aedf33c9f91cdc5a\n",
      "[#] #samples_token: 41\n",
      "[#] First sample token: 32d2bcf46e734dffb14fe2e0a823d059\n",
      "[#] Last sample token: 94640f753b284a1c9c0e8694243f60cd\n",
      "====================================================================================================\n",
      "[#] Example of the first sample:\n",
      "dict_keys(['token', 'scene_token', 'timestamp', 'prev', 'next', 'data', 'anns'])\n",
      "dict_keys(['RADAR_RIGHT_BACK', 'RADAR_RIGHT_SIDE', 'RADAR_RIGHT_FRONT', 'RADAR_LEFT_FRONT', 'RADAR_LEFT_SIDE', 'RADAR_LEFT_BACK', 'LIDAR_LEFT', 'LIDAR_RIGHT', 'LIDAR_TOP_FRONT', 'LIDAR_TOP_LEFT', 'LIDAR_TOP_RIGHT', 'LIDAR_REAR', 'CAMERA_LEFT_FRONT', 'CAMERA_LEFT_BACK', 'CAMERA_RIGHT_FRONT', 'CAMERA_RIGHT_BACK'])\n",
      "[#] Radar data shape: (727, 7)\n"
     ]
    }
   ],
   "source": [
    "import os\n",
    "from truckscenes.utils.data_classes import LidarPointCloud, RadarPointCloud\n",
    "\n",
    "def get_all_frames(scene):\n",
    "    print(\"=\" * 100)\n",
    "    print(\"[#] scene:\", scene)\n",
    "    print(scene.keys())\n",
    "    count = 0\n",
    "    samples_token = [scene['first_sample_token']]\n",
    "    print(\"[#] First_sample_token: \", scene['first_sample_token'])\n",
    "    print(\"[#] Last_sample_token: \", scene['last_sample_token'])\n",
    "    start_sample = trucksc.get('sample', samples_token[0])\n",
    "    current_sample = start_sample\n",
    "    assert start_sample['prev'] == '', \"[#] First sample should not have a previous sample.\"\n",
    "\n",
    "    while current_sample['next'] != '':\n",
    "        # print(\"[#] Sample:\", current_sample['token'])\n",
    "        count += 1\n",
    "        current_sample = trucksc.get('sample', current_sample['next'])\n",
    "        samples_token.append(current_sample['token'])\n",
    "        # print(\"[#] Next sample:\", current_sample['token'])\n",
    "        assert current_sample['scene_token'] == scene['token'], \"[#] Sample should belong to the same scene.\"\n",
    "    \n",
    "    samples_token.append(scene['last_sample_token'])\n",
    "    count += 1\n",
    "    assert trucksc.get('sample', samples_token[-1])['next'] == '', \"[#] Last sample should not have a next sample.\"\n",
    "    print(\"[#] #count:\", count)\n",
    "    print(\"[#] #nbr_samples: \", scene['nbr_samples'])\n",
    "    assert count == scene['nbr_samples'], \"[#] Count should be equal to the number of samples in the scene.\"\n",
    "    print(\"=\" * 100)\n",
    "\n",
    "    return {scene['token']: samples_token}\n",
    "    \n",
    "print(\"[#] #N-scenes:\", len(trucksc.scene))\n",
    "samples_token = get_all_frames(trucksc.scene[0])\n",
    "for k, v in samples_token.items():\n",
    "    print(\"[#] Scene token:\", k)\n",
    "    print(\"[#] #samples_token:\", len(v))\n",
    "    print(\"[#] First sample token:\", v[0])\n",
    "    print(\"[#] Last sample token:\", v[-1])\n",
    "    print(\"=\" * 100)\n",
    "    for i in range(len(v)):\n",
    "        sample = trucksc.get('sample', v[i])\n",
    "        if i == 0:\n",
    "            print(\"[#] Example of the first sample:\")\n",
    "            print(sample.keys())\n",
    "            print(sample['data'].keys())\n",
    "            radar = trucksc.get('sample_data', sample['data']['RADAR_RIGHT_FRONT'])\n",
    "            pcl_path = os.path.join(trucksc.dataroot, radar['filename'])\n",
    "            radar_dat = RadarPointCloud.from_file(pcl_path)\n",
    "            radar_pc = radar_dat.points.transpose(1, 0)\n",
    "            print(\"[#] Radar data shape:\", radar_pc.shape)\n",
    "        # print(\"=\" * 100)"
   ]
  }
 ],
 "metadata": {
  "kernelspec": {
   "display_name": "radarPC",
   "language": "python",
   "name": "python3"
  },
  "language_info": {
   "codemirror_mode": {
    "name": "ipython",
    "version": 3
   },
   "file_extension": ".py",
   "mimetype": "text/x-python",
   "name": "python",
   "nbconvert_exporter": "python",
   "pygments_lexer": "ipython3",
   "version": "3.10.16"
  }
 },
 "nbformat": 4,
 "nbformat_minor": 5
}
